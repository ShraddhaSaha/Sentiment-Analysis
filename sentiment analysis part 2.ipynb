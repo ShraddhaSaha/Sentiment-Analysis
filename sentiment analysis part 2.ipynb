{
 "cells": [
  {
   "cell_type": "code",
   "execution_count": 5,
   "id": "4328c09b",
   "metadata": {},
   "outputs": [
    {
     "name": "stderr",
     "output_type": "stream",
     "text": [
      "[nltk_data] Downloading package stopwords to\n",
      "[nltk_data]     C:\\Users\\ANGEL\\AppData\\Roaming\\nltk_data...\n",
      "[nltk_data]   Package stopwords is already up-to-date!\n"
     ]
    }
   ],
   "source": [
    "import pandas as pd\n",
    "import tensorflow \n",
    "from tensorflow.keras.layers import *\n",
    "from tensorflow.keras.preprocessing.text import Tokenizer\n",
    "from tensorflow.keras.preprocessing.sequence import pad_sequences\n",
    "import matplotlib.pyplot as plt\n",
    "import nltk\n",
    "from nltk import WordNetLemmatizer\n",
    "from nltk.corpus import stopwords\n",
    "import spacy\n",
    "import re\n",
    "import sklearn\n",
    "from sklearn.model_selection import train_test_split\n",
    "import tqdm\n",
    "nltk.download('stopwords')\n",
    "STOPWORDS = set(stopwords.words('english'))\n",
    "from gensim.models import Word2Vec\n",
    "from tensorflow.keras import Sequential\n",
    "import numpy as np\n",
    "from tensorflow.keras.utils import to_categorical\n",
    "from sklearn.pipeline import make_pipeline\n",
    "from tensorflow.keras import datasets,models,layers\n",
    "from tensorflow.keras.layers import Conv1D, Concatenate, GlobalMaxPooling1D, GlobalAveragePooling1D, Dense, Embedding, Input,BatchNormalization\n",
    "from tensorflow.keras.models import Model"
   ]
  },
  {
   "cell_type": "code",
   "execution_count": 4,
   "id": "878fd182",
   "metadata": {},
   "outputs": [
    {
     "name": "stdout",
     "output_type": "stream",
     "text": [
      "Collecting spacy\n",
      "  Obtaining dependency information for spacy from https://files.pythonhosted.org/packages/92/fb/d1f0605e1e8627226c6c96053fe1632e9a04a3fbcd8b5d715528cb95eb97/spacy-3.7.4-cp311-cp311-win_amd64.whl.metadata\n",
      "  Downloading spacy-3.7.4-cp311-cp311-win_amd64.whl.metadata (27 kB)\n",
      "Collecting spacy-legacy<3.1.0,>=3.0.11 (from spacy)\n",
      "  Obtaining dependency information for spacy-legacy<3.1.0,>=3.0.11 from https://files.pythonhosted.org/packages/c3/55/12e842c70ff8828e34e543a2c7176dac4da006ca6901c9e8b43efab8bc6b/spacy_legacy-3.0.12-py2.py3-none-any.whl.metadata\n",
      "  Downloading spacy_legacy-3.0.12-py2.py3-none-any.whl.metadata (2.8 kB)\n",
      "Collecting spacy-loggers<2.0.0,>=1.0.0 (from spacy)\n",
      "  Obtaining dependency information for spacy-loggers<2.0.0,>=1.0.0 from https://files.pythonhosted.org/packages/33/78/d1a1a026ef3af911159398c939b1509d5c36fe524c7b644f34a5146c4e16/spacy_loggers-1.0.5-py3-none-any.whl.metadata\n",
      "  Downloading spacy_loggers-1.0.5-py3-none-any.whl.metadata (23 kB)\n",
      "Collecting murmurhash<1.1.0,>=0.28.0 (from spacy)\n",
      "  Obtaining dependency information for murmurhash<1.1.0,>=0.28.0 from https://files.pythonhosted.org/packages/71/46/af01a20ec368bd9cb49a1d2df15e3eca113bbf6952cc1f2a47f1c6801a7f/murmurhash-1.0.10-cp311-cp311-win_amd64.whl.metadata\n",
      "  Downloading murmurhash-1.0.10-cp311-cp311-win_amd64.whl.metadata (2.0 kB)\n",
      "Collecting cymem<2.1.0,>=2.0.2 (from spacy)\n",
      "  Obtaining dependency information for cymem<2.1.0,>=2.0.2 from https://files.pythonhosted.org/packages/c1/c3/dd044e6f62a3d317c461f6f0c153c6573ed13025752d779e514000c15dd2/cymem-2.0.8-cp311-cp311-win_amd64.whl.metadata\n",
      "  Downloading cymem-2.0.8-cp311-cp311-win_amd64.whl.metadata (8.6 kB)\n",
      "Collecting preshed<3.1.0,>=3.0.2 (from spacy)\n",
      "  Obtaining dependency information for preshed<3.1.0,>=3.0.2 from https://files.pythonhosted.org/packages/e4/fc/78cdbdb79f5d6d45949e72c32445d6c060977ad50a1dcfc0392622165f7c/preshed-3.0.9-cp311-cp311-win_amd64.whl.metadata\n",
      "  Downloading preshed-3.0.9-cp311-cp311-win_amd64.whl.metadata (2.2 kB)\n",
      "Collecting thinc<8.3.0,>=8.2.2 (from spacy)\n",
      "  Obtaining dependency information for thinc<8.3.0,>=8.2.2 from https://files.pythonhosted.org/packages/de/a5/c242d57dc7a8afe677aa48ce370d84be3d04523cbb819c4a36b64f35155c/thinc-8.2.3-cp311-cp311-win_amd64.whl.metadata\n",
      "  Downloading thinc-8.2.3-cp311-cp311-win_amd64.whl.metadata (15 kB)\n",
      "Collecting wasabi<1.2.0,>=0.9.1 (from spacy)\n",
      "  Obtaining dependency information for wasabi<1.2.0,>=0.9.1 from https://files.pythonhosted.org/packages/8f/69/26cbf0bad11703241cb84d5324d868097f7a8faf2f1888354dac8883f3fc/wasabi-1.1.2-py3-none-any.whl.metadata\n",
      "  Downloading wasabi-1.1.2-py3-none-any.whl.metadata (28 kB)\n",
      "Collecting srsly<3.0.0,>=2.4.3 (from spacy)\n",
      "  Obtaining dependency information for srsly<3.0.0,>=2.4.3 from https://files.pythonhosted.org/packages/eb/f5/e3f29993f673d91623df6413ba64e815dd2676fd7932cbc5e7347402ddae/srsly-2.4.8-cp311-cp311-win_amd64.whl.metadata\n",
      "  Downloading srsly-2.4.8-cp311-cp311-win_amd64.whl.metadata (20 kB)\n",
      "Collecting catalogue<2.1.0,>=2.0.6 (from spacy)\n",
      "  Obtaining dependency information for catalogue<2.1.0,>=2.0.6 from https://files.pythonhosted.org/packages/9e/96/d32b941a501ab566a16358d68b6eb4e4acc373fab3c3c4d7d9e649f7b4bb/catalogue-2.0.10-py3-none-any.whl.metadata\n",
      "  Downloading catalogue-2.0.10-py3-none-any.whl.metadata (14 kB)\n",
      "Collecting weasel<0.4.0,>=0.1.0 (from spacy)\n",
      "  Obtaining dependency information for weasel<0.4.0,>=0.1.0 from https://files.pythonhosted.org/packages/d5/e5/b63b8e255d89ba4155972990d42523251d4d1368c4906c646597f63870e2/weasel-0.3.4-py3-none-any.whl.metadata\n",
      "  Downloading weasel-0.3.4-py3-none-any.whl.metadata (4.7 kB)\n",
      "Collecting typer<0.10.0,>=0.3.0 (from spacy)\n",
      "  Obtaining dependency information for typer<0.10.0,>=0.3.0 from https://files.pythonhosted.org/packages/62/39/82c9d3e10979851847361d922a373bdfef4091020da7f893acfaf07c0225/typer-0.9.4-py3-none-any.whl.metadata\n",
      "  Downloading typer-0.9.4-py3-none-any.whl.metadata (14 kB)\n",
      "Requirement already satisfied: smart-open<7.0.0,>=5.2.1 in c:\\users\\angel\\anaconda3\\lib\\site-packages (from spacy) (5.2.1)\n",
      "Requirement already satisfied: tqdm<5.0.0,>=4.38.0 in c:\\users\\angel\\anaconda3\\lib\\site-packages (from spacy) (4.65.0)\n",
      "Requirement already satisfied: requests<3.0.0,>=2.13.0 in c:\\users\\angel\\anaconda3\\lib\\site-packages (from spacy) (2.31.0)\n",
      "Collecting pydantic!=1.8,!=1.8.1,<3.0.0,>=1.7.4 (from spacy)\n",
      "  Obtaining dependency information for pydantic!=1.8,!=1.8.1,<3.0.0,>=1.7.4 from https://files.pythonhosted.org/packages/ed/76/9a17032880ed27f2dbd490c77a3431cbc80f47ba81534131de3c2846e736/pydantic-2.7.1-py3-none-any.whl.metadata\n",
      "  Downloading pydantic-2.7.1-py3-none-any.whl.metadata (107 kB)\n",
      "     ---------------------------------------- 0.0/107.3 kB ? eta -:--:--\n",
      "     ------------------------------------ - 102.4/107.3 kB 2.9 MB/s eta 0:00:01\n",
      "     -------------------------------------- 107.3/107.3 kB 2.1 MB/s eta 0:00:00\n",
      "Requirement already satisfied: jinja2 in c:\\users\\angel\\anaconda3\\lib\\site-packages (from spacy) (3.1.2)\n",
      "Requirement already satisfied: setuptools in c:\\users\\angel\\anaconda3\\lib\\site-packages (from spacy) (68.0.0)\n",
      "Requirement already satisfied: packaging>=20.0 in c:\\users\\angel\\anaconda3\\lib\\site-packages (from spacy) (23.0)\n",
      "Collecting langcodes<4.0.0,>=3.2.0 (from spacy)\n",
      "  Obtaining dependency information for langcodes<4.0.0,>=3.2.0 from https://files.pythonhosted.org/packages/58/70/4058ab0ebb082b18d06888e711baed7f33354a5e0b363bb627586d8c323a/langcodes-3.4.0-py3-none-any.whl.metadata\n",
      "  Downloading langcodes-3.4.0-py3-none-any.whl.metadata (29 kB)\n",
      "Requirement already satisfied: numpy>=1.19.0 in c:\\users\\angel\\anaconda3\\lib\\site-packages (from spacy) (1.24.3)\n",
      "Collecting language-data>=1.2 (from langcodes<4.0.0,>=3.2.0->spacy)\n",
      "  Obtaining dependency information for language-data>=1.2 from https://files.pythonhosted.org/packages/12/5f/139464da89c49afcc8bb97ebad48818a535220ce01b1f24c61fb80dbe4d0/language_data-1.2.0-py3-none-any.whl.metadata\n",
      "  Downloading language_data-1.2.0-py3-none-any.whl.metadata (4.3 kB)\n",
      "Collecting annotated-types>=0.4.0 (from pydantic!=1.8,!=1.8.1,<3.0.0,>=1.7.4->spacy)\n",
      "  Obtaining dependency information for annotated-types>=0.4.0 from https://files.pythonhosted.org/packages/28/78/d31230046e58c207284c6b2c4e8d96e6d3cb4e52354721b944d3e1ee4aa5/annotated_types-0.6.0-py3-none-any.whl.metadata\n",
      "  Downloading annotated_types-0.6.0-py3-none-any.whl.metadata (12 kB)\n",
      "Collecting pydantic-core==2.18.2 (from pydantic!=1.8,!=1.8.1,<3.0.0,>=1.7.4->spacy)\n",
      "  Obtaining dependency information for pydantic-core==2.18.2 from https://files.pythonhosted.org/packages/9d/b0/e8bebe8fd08ea6ec027b7304c84f4652f2933514caf9f6a418d259d2a950/pydantic_core-2.18.2-cp311-none-win_amd64.whl.metadata\n",
      "  Downloading pydantic_core-2.18.2-cp311-none-win_amd64.whl.metadata (6.7 kB)\n",
      "Requirement already satisfied: typing-extensions>=4.6.1 in c:\\users\\angel\\anaconda3\\lib\\site-packages (from pydantic!=1.8,!=1.8.1,<3.0.0,>=1.7.4->spacy) (4.7.1)\n",
      "Requirement already satisfied: charset-normalizer<4,>=2 in c:\\users\\angel\\anaconda3\\lib\\site-packages (from requests<3.0.0,>=2.13.0->spacy) (2.0.4)\n",
      "Requirement already satisfied: idna<4,>=2.5 in c:\\users\\angel\\anaconda3\\lib\\site-packages (from requests<3.0.0,>=2.13.0->spacy) (3.4)\n",
      "Requirement already satisfied: urllib3<3,>=1.21.1 in c:\\users\\angel\\anaconda3\\lib\\site-packages (from requests<3.0.0,>=2.13.0->spacy) (1.26.16)\n",
      "Requirement already satisfied: certifi>=2017.4.17 in c:\\users\\angel\\anaconda3\\lib\\site-packages (from requests<3.0.0,>=2.13.0->spacy) (2023.7.22)\n",
      "Collecting blis<0.8.0,>=0.7.8 (from thinc<8.3.0,>=8.2.2->spacy)\n",
      "  Obtaining dependency information for blis<0.8.0,>=0.7.8 from https://files.pythonhosted.org/packages/2f/09/da0592c74560cc33396504698122f7a56747c82a5e072ca7d2c3397898e1/blis-0.7.11-cp311-cp311-win_amd64.whl.metadata\n",
      "  Downloading blis-0.7.11-cp311-cp311-win_amd64.whl.metadata (7.6 kB)\n",
      "Collecting confection<1.0.0,>=0.0.1 (from thinc<8.3.0,>=8.2.2->spacy)\n",
      "  Obtaining dependency information for confection<1.0.0,>=0.0.1 from https://files.pythonhosted.org/packages/39/78/f9d18da7b979a2e6007bfcea2f3c8cc02ed210538ae1ce7e69092aed7b18/confection-0.1.4-py3-none-any.whl.metadata\n",
      "  Downloading confection-0.1.4-py3-none-any.whl.metadata (19 kB)\n",
      "Requirement already satisfied: colorama in c:\\users\\angel\\anaconda3\\lib\\site-packages (from tqdm<5.0.0,>=4.38.0->spacy) (0.4.6)\n",
      "Requirement already satisfied: click<9.0.0,>=7.1.1 in c:\\users\\angel\\anaconda3\\lib\\site-packages (from typer<0.10.0,>=0.3.0->spacy) (8.0.4)\n",
      "Collecting cloudpathlib<0.17.0,>=0.7.0 (from weasel<0.4.0,>=0.1.0->spacy)\n",
      "  Obtaining dependency information for cloudpathlib<0.17.0,>=0.7.0 from https://files.pythonhosted.org/packages/0f/6e/45b57a7d4573d85d0b0a39d99673dc1f5eea9d92a1a4603b35e968fbf89a/cloudpathlib-0.16.0-py3-none-any.whl.metadata\n",
      "  Downloading cloudpathlib-0.16.0-py3-none-any.whl.metadata (14 kB)\n",
      "Requirement already satisfied: MarkupSafe>=2.0 in c:\\users\\angel\\anaconda3\\lib\\site-packages (from jinja2->spacy) (2.1.1)\n",
      "Collecting marisa-trie>=0.7.7 (from language-data>=1.2->langcodes<4.0.0,>=3.2.0->spacy)\n",
      "  Obtaining dependency information for marisa-trie>=0.7.7 from https://files.pythonhosted.org/packages/3e/6d/ed921d88d596094aa8dd5749ab83a95b09f8f8f0b057cb6cac0d376ea398/marisa_trie-1.1.1-cp311-cp311-win_amd64.whl.metadata\n",
      "  Downloading marisa_trie-1.1.1-cp311-cp311-win_amd64.whl.metadata (8.9 kB)\n",
      "Downloading spacy-3.7.4-cp311-cp311-win_amd64.whl (12.1 MB)\n",
      "   ---------------------------------------- 0.0/12.1 MB ? eta -:--:--\n",
      "    --------------------------------------- 0.3/12.1 MB 7.7 MB/s eta 0:00:02\n",
      "   - -------------------------------------- 0.5/12.1 MB 5.6 MB/s eta 0:00:03\n",
      "   -- ------------------------------------- 0.8/12.1 MB 6.7 MB/s eta 0:00:02\n",
      "   --- ------------------------------------ 1.1/12.1 MB 6.3 MB/s eta 0:00:02\n",
      "   ---- ----------------------------------- 1.3/12.1 MB 5.7 MB/s eta 0:00:02\n",
      "   ---- ----------------------------------- 1.4/12.1 MB 5.8 MB/s eta 0:00:02\n",
      "   ---- ----------------------------------- 1.4/12.1 MB 5.8 MB/s eta 0:00:02\n",
      "   ---- ----------------------------------- 1.4/12.1 MB 5.8 MB/s eta 0:00:02\n",
      "   ---- ----------------------------------- 1.4/12.1 MB 3.7 MB/s eta 0:00:03\n",
      "   ------ --------------------------------- 1.9/12.1 MB 4.3 MB/s eta 0:00:03\n",
      "   ------ --------------------------------- 2.0/12.1 MB 4.1 MB/s eta 0:00:03\n",
      "   -------- ------------------------------- 2.5/12.1 MB 4.7 MB/s eta 0:00:03\n",
      "   -------- ------------------------------- 2.5/12.1 MB 4.6 MB/s eta 0:00:03\n",
      "   -------- ------------------------------- 2.5/12.1 MB 4.6 MB/s eta 0:00:03\n",
      "   -------- ------------------------------- 2.5/12.1 MB 4.6 MB/s eta 0:00:03\n",
      "   ---------- ----------------------------- 3.2/12.1 MB 4.4 MB/s eta 0:00:02\n",
      "   ----------- ---------------------------- 3.4/12.1 MB 4.4 MB/s eta 0:00:02\n",
      "   ----------- ---------------------------- 3.5/12.1 MB 4.4 MB/s eta 0:00:02\n",
      "   ------------ --------------------------- 3.7/12.1 MB 4.4 MB/s eta 0:00:02\n",
      "   ------------ --------------------------- 3.9/12.1 MB 4.4 MB/s eta 0:00:02\n",
      "   ------------- -------------------------- 4.1/12.1 MB 4.4 MB/s eta 0:00:02\n",
      "   -------------- ------------------------- 4.2/12.1 MB 4.3 MB/s eta 0:00:02\n",
      "   -------------- ------------------------- 4.4/12.1 MB 4.3 MB/s eta 0:00:02\n",
      "   --------------- ------------------------ 4.6/12.1 MB 4.3 MB/s eta 0:00:02\n",
      "   --------------- ------------------------ 4.8/12.1 MB 4.3 MB/s eta 0:00:02\n",
      "   ---------------- ----------------------- 5.0/12.1 MB 4.2 MB/s eta 0:00:02\n",
      "   ----------------- ---------------------- 5.2/12.1 MB 4.2 MB/s eta 0:00:02\n",
      "   ----------------- ---------------------- 5.3/12.1 MB 4.2 MB/s eta 0:00:02\n",
      "   ------------------ --------------------- 5.5/12.1 MB 4.2 MB/s eta 0:00:02\n",
      "   ------------------ --------------------- 5.7/12.1 MB 4.2 MB/s eta 0:00:02\n",
      "   ------------------- -------------------- 5.9/12.1 MB 4.2 MB/s eta 0:00:02\n",
      "   -------------------- ------------------- 6.1/12.1 MB 4.2 MB/s eta 0:00:02\n",
      "   -------------------- ------------------- 6.2/12.1 MB 4.2 MB/s eta 0:00:02\n",
      "   --------------------- ------------------ 6.5/12.1 MB 4.2 MB/s eta 0:00:02\n",
      "   --------------------- ------------------ 6.6/12.1 MB 4.1 MB/s eta 0:00:02\n",
      "   ---------------------- ----------------- 6.8/12.1 MB 4.2 MB/s eta 0:00:02\n",
      "   ----------------------- ---------------- 7.0/12.1 MB 4.2 MB/s eta 0:00:02\n",
      "   ----------------------- ---------------- 7.1/12.1 MB 4.1 MB/s eta 0:00:02\n",
      "   ------------------------ --------------- 7.4/12.1 MB 4.1 MB/s eta 0:00:02\n",
      "   ------------------------ --------------- 7.5/12.1 MB 4.1 MB/s eta 0:00:02\n",
      "   ------------------------- -------------- 7.7/12.1 MB 4.1 MB/s eta 0:00:02\n",
      "   -------------------------- ------------- 7.9/12.1 MB 4.1 MB/s eta 0:00:02\n",
      "   -------------------------- ------------- 8.0/12.1 MB 4.1 MB/s eta 0:00:01\n",
      "   --------------------------- ------------ 8.2/12.1 MB 4.1 MB/s eta 0:00:01\n",
      "   --------------------------- ------------ 8.4/12.1 MB 4.1 MB/s eta 0:00:01\n",
      "   ---------------------------- ----------- 8.6/12.1 MB 4.1 MB/s eta 0:00:01\n",
      "   ----------------------------- ---------- 8.8/12.1 MB 4.1 MB/s eta 0:00:01\n",
      "   ----------------------------- ---------- 8.9/12.1 MB 4.1 MB/s eta 0:00:01\n",
      "   ------------------------------ --------- 9.1/12.1 MB 4.1 MB/s eta 0:00:01\n",
      "   ------------------------------ --------- 9.2/12.1 MB 4.1 MB/s eta 0:00:01\n",
      "   ------------------------------- -------- 9.4/12.1 MB 4.1 MB/s eta 0:00:01\n",
      "   ------------------------------- -------- 9.6/12.1 MB 4.1 MB/s eta 0:00:01\n",
      "   -------------------------------- ------- 9.8/12.1 MB 4.1 MB/s eta 0:00:01\n",
      "   -------------------------------- ------- 9.9/12.1 MB 4.1 MB/s eta 0:00:01\n",
      "   --------------------------------- ------ 10.1/12.1 MB 4.1 MB/s eta 0:00:01\n",
      "   ---------------------------------- ----- 10.3/12.1 MB 4.0 MB/s eta 0:00:01\n",
      "   ---------------------------------- ----- 10.5/12.1 MB 4.0 MB/s eta 0:00:01\n",
      "   ----------------------------------- ---- 10.6/12.1 MB 4.0 MB/s eta 0:00:01\n",
      "   ----------------------------------- ---- 10.8/12.1 MB 4.0 MB/s eta 0:00:01\n",
      "   ------------------------------------ --- 11.0/12.1 MB 3.9 MB/s eta 0:00:01\n",
      "   ------------------------------------ --- 11.2/12.1 MB 3.9 MB/s eta 0:00:01\n",
      "   ------------------------------------- -- 11.3/12.1 MB 3.9 MB/s eta 0:00:01\n",
      "   -------------------------------------- - 11.5/12.1 MB 3.9 MB/s eta 0:00:01\n",
      "   -------------------------------------- - 11.7/12.1 MB 4.1 MB/s eta 0:00:01\n",
      "   ---------------------------------------  11.8/12.1 MB 4.1 MB/s eta 0:00:01\n",
      "   ---------------------------------------  12.1/12.1 MB 4.0 MB/s eta 0:00:01\n",
      "   ---------------------------------------  12.1/12.1 MB 4.0 MB/s eta 0:00:01\n",
      "   ---------------------------------------- 12.1/12.1 MB 3.8 MB/s eta 0:00:00\n",
      "Downloading catalogue-2.0.10-py3-none-any.whl (17 kB)\n",
      "Downloading cymem-2.0.8-cp311-cp311-win_amd64.whl (39 kB)\n",
      "Downloading langcodes-3.4.0-py3-none-any.whl (182 kB)\n",
      "   ---------------------------------------- 0.0/182.0 kB ? eta -:--:--\n",
      "   ---------------------------------------- 182.0/182.0 kB 5.5 MB/s eta 0:00:00\n",
      "Downloading murmurhash-1.0.10-cp311-cp311-win_amd64.whl (25 kB)\n",
      "Downloading preshed-3.0.9-cp311-cp311-win_amd64.whl (122 kB)\n",
      "   ---------------------------------------- 0.0/122.3 kB ? eta -:--:--\n",
      "   ---------------------------------------- 122.3/122.3 kB 7.5 MB/s eta 0:00:00\n",
      "Downloading pydantic-2.7.1-py3-none-any.whl (409 kB)\n",
      "   ---------------------------------------- 0.0/409.3 kB ? eta -:--:--\n",
      "   --------------------------------------  399.4/409.3 kB 25.9 MB/s eta 0:00:01\n",
      "   --------------------------------------- 409.3/409.3 kB 12.9 MB/s eta 0:00:00\n",
      "Downloading pydantic_core-2.18.2-cp311-none-win_amd64.whl (1.9 MB)\n",
      "   ---------------------------------------- 0.0/1.9 MB ? eta -:--:--\n",
      "   ----------- ---------------------------- 0.5/1.9 MB 17.2 MB/s eta 0:00:01\n",
      "   -------------- ------------------------- 0.7/1.9 MB 11.2 MB/s eta 0:00:01\n",
      "   -------------------- ------------------- 1.0/1.9 MB 7.7 MB/s eta 0:00:01\n",
      "   ----------------------- ---------------- 1.1/1.9 MB 6.4 MB/s eta 0:00:01\n",
      "   --------------------------- ------------ 1.3/1.9 MB 5.9 MB/s eta 0:00:01\n",
      "   ------------------------------ --------- 1.5/1.9 MB 5.5 MB/s eta 0:00:01\n",
      "   ----------------------------------- ---- 1.7/1.9 MB 5.3 MB/s eta 0:00:01\n",
      "   -------------------------------------- - 1.9/1.9 MB 5.1 MB/s eta 0:00:01\n",
      "   ---------------------------------------- 1.9/1.9 MB 4.9 MB/s eta 0:00:00\n",
      "Downloading spacy_legacy-3.0.12-py2.py3-none-any.whl (29 kB)\n",
      "Downloading spacy_loggers-1.0.5-py3-none-any.whl (22 kB)\n",
      "Downloading srsly-2.4.8-cp311-cp311-win_amd64.whl (479 kB)\n",
      "   ---------------------------------------- 0.0/479.7 kB ? eta -:--:--\n",
      "   ------------------------------ -------- 378.9/479.7 kB 11.9 MB/s eta 0:00:01\n",
      "   ---------------------------------------- 479.7/479.7 kB 7.6 MB/s eta 0:00:00\n",
      "Downloading thinc-8.2.3-cp311-cp311-win_amd64.whl (1.5 MB)\n",
      "   ---------------------------------------- 0.0/1.5 MB ? eta -:--:--\n",
      "   ------------- -------------------------- 0.5/1.5 MB 15.5 MB/s eta 0:00:01\n",
      "   ----------------- ---------------------- 0.7/1.5 MB 10.4 MB/s eta 0:00:01\n",
      "   ----------------------- ---------------- 0.9/1.5 MB 6.8 MB/s eta 0:00:01\n",
      "   ---------------------------- ----------- 1.0/1.5 MB 6.0 MB/s eta 0:00:01\n",
      "   --------------------------------- ------ 1.2/1.5 MB 5.6 MB/s eta 0:00:01\n",
      "   -------------------------------------- - 1.4/1.5 MB 5.3 MB/s eta 0:00:01\n",
      "   ---------------------------------------  1.5/1.5 MB 5.2 MB/s eta 0:00:01\n",
      "   ---------------------------------------- 1.5/1.5 MB 4.7 MB/s eta 0:00:00\n",
      "Downloading typer-0.9.4-py3-none-any.whl (45 kB)\n",
      "   ---------------------------------------- 0.0/46.0 kB ? eta -:--:--\n",
      "   ----------------------------------- ---- 41.0/46.0 kB ? eta -:--:--\n",
      "   ----------------------------------- ---- 41.0/46.0 kB ? eta -:--:--\n",
      "   ----------------------------------- ---- 41.0/46.0 kB ? eta -:--:--\n",
      "   ----------------------------------- ---- 41.0/46.0 kB ? eta -:--:--\n",
      "   ----------------------------------- ---- 41.0/46.0 kB ? eta -:--:--\n",
      "   ----------------------------------- ---- 41.0/46.0 kB ? eta -:--:--\n",
      "   ----------------------------------- ---- 41.0/46.0 kB ? eta -:--:--\n",
      "   ----------------------------------- ---- 41.0/46.0 kB ? eta -:--:--\n",
      "   ----------------------------------- ---- 41.0/46.0 kB ? eta -:--:--\n",
      "   ---------------------------------------- 46.0/46.0 kB 81.6 kB/s eta 0:00:00\n",
      "Downloading wasabi-1.1.2-py3-none-any.whl (27 kB)\n",
      "Downloading weasel-0.3.4-py3-none-any.whl (50 kB)\n",
      "   ---------------------------------------- 0.0/50.1 kB ? eta -:--:--\n",
      "   -------------------------------- ------- 41.0/50.1 kB ? eta -:--:--\n",
      "   ---------------------------------------- 50.1/50.1 kB 848.3 kB/s eta 0:00:00\n",
      "Downloading annotated_types-0.6.0-py3-none-any.whl (12 kB)\n",
      "Downloading blis-0.7.11-cp311-cp311-win_amd64.whl (6.6 MB)\n",
      "   ---------------------------------------- 0.0/6.6 MB ? eta -:--:--\n",
      "   --- ------------------------------------ 0.5/6.6 MB 16.5 MB/s eta 0:00:01\n",
      "   ---- ----------------------------------- 0.7/6.6 MB 11.7 MB/s eta 0:00:01\n",
      "   ----- ---------------------------------- 0.9/6.6 MB 7.5 MB/s eta 0:00:01\n",
      "   ------ --------------------------------- 1.1/6.6 MB 7.0 MB/s eta 0:00:01\n",
      "   ------- -------------------------------- 1.3/6.6 MB 6.3 MB/s eta 0:00:01\n",
      "   -------- ------------------------------- 1.4/6.6 MB 5.7 MB/s eta 0:00:01\n",
      "   --------- ------------------------------ 1.6/6.6 MB 5.4 MB/s eta 0:00:01\n",
      "   ----------- ---------------------------- 1.8/6.6 MB 5.3 MB/s eta 0:00:01\n",
      "   ------------ --------------------------- 2.0/6.6 MB 5.1 MB/s eta 0:00:01\n",
      "   ------------- -------------------------- 2.2/6.6 MB 4.9 MB/s eta 0:00:01\n",
      "   -------------- ------------------------- 2.4/6.6 MB 4.8 MB/s eta 0:00:01\n",
      "   --------------- ------------------------ 2.6/6.6 MB 4.8 MB/s eta 0:00:01\n",
      "   ---------------- ----------------------- 2.7/6.6 MB 4.7 MB/s eta 0:00:01\n",
      "   ----------------- ---------------------- 2.9/6.6 MB 4.6 MB/s eta 0:00:01\n",
      "   ------------------ --------------------- 3.1/6.6 MB 4.6 MB/s eta 0:00:01\n",
      "   ------------------- -------------------- 3.2/6.6 MB 4.5 MB/s eta 0:00:01\n",
      "   -------------------- ------------------- 3.3/6.6 MB 4.5 MB/s eta 0:00:01\n",
      "   -------------------- ------------------- 3.4/6.6 MB 4.4 MB/s eta 0:00:01\n",
      "   ----------------------- ---------------- 3.8/6.6 MB 4.4 MB/s eta 0:00:01\n",
      "   ------------------------ --------------- 4.0/6.6 MB 4.4 MB/s eta 0:00:01\n",
      "   ------------------------- -------------- 4.2/6.6 MB 4.4 MB/s eta 0:00:01\n",
      "   -------------------------- ------------- 4.3/6.6 MB 4.4 MB/s eta 0:00:01\n",
      "   --------------------------- ------------ 4.5/6.6 MB 4.3 MB/s eta 0:00:01\n",
      "   ---------------------------- ----------- 4.7/6.6 MB 4.3 MB/s eta 0:00:01\n",
      "   ----------------------------- ---------- 4.8/6.6 MB 4.3 MB/s eta 0:00:01\n",
      "   ------------------------------ --------- 5.0/6.6 MB 4.3 MB/s eta 0:00:01\n",
      "   ------------------------------- -------- 5.2/6.6 MB 4.3 MB/s eta 0:00:01\n",
      "   -------------------------------- ------- 5.3/6.6 MB 4.3 MB/s eta 0:00:01\n",
      "   --------------------------------- ------ 5.5/6.6 MB 4.3 MB/s eta 0:00:01\n",
      "   ---------------------------------- ----- 5.7/6.6 MB 4.2 MB/s eta 0:00:01\n",
      "   ----------------------------------- ---- 5.9/6.6 MB 4.2 MB/s eta 0:00:01\n",
      "   ------------------------------------ --- 6.0/6.6 MB 4.2 MB/s eta 0:00:01\n",
      "   ------------------------------------- -- 6.2/6.6 MB 4.2 MB/s eta 0:00:01\n",
      "   -------------------------------------- - 6.3/6.6 MB 4.2 MB/s eta 0:00:01\n",
      "   ---------------------------------------  6.6/6.6 MB 4.2 MB/s eta 0:00:01\n",
      "   ---------------------------------------  6.6/6.6 MB 4.2 MB/s eta 0:00:01\n",
      "   ---------------------------------------- 6.6/6.6 MB 4.0 MB/s eta 0:00:00\n",
      "Downloading cloudpathlib-0.16.0-py3-none-any.whl (45 kB)\n",
      "   ---------------------------------------- 0.0/45.0 kB ? eta -:--:--\n",
      "   ---------------------------------------- 45.0/45.0 kB 740.0 kB/s eta 0:00:00\n",
      "Downloading confection-0.1.4-py3-none-any.whl (35 kB)\n",
      "Downloading language_data-1.2.0-py3-none-any.whl (5.4 MB)\n",
      "   ---------------------------------------- 0.0/5.4 MB ? eta -:--:--\n",
      "   --- ------------------------------------ 0.5/5.4 MB 15.2 MB/s eta 0:00:01\n",
      "   ----- ---------------------------------- 0.7/5.4 MB 9.2 MB/s eta 0:00:01\n",
      "   ------ --------------------------------- 0.9/5.4 MB 7.1 MB/s eta 0:00:01\n",
      "   -------- ------------------------------- 1.1/5.4 MB 6.3 MB/s eta 0:00:01\n",
      "   --------- ------------------------------ 1.3/5.4 MB 6.2 MB/s eta 0:00:01\n",
      "   ---------- ----------------------------- 1.4/5.4 MB 5.5 MB/s eta 0:00:01\n",
      "   ----------- ---------------------------- 1.6/5.4 MB 5.3 MB/s eta 0:00:01\n",
      "   ------------- -------------------------- 1.8/5.4 MB 5.1 MB/s eta 0:00:01\n",
      "   -------------- ------------------------- 1.9/5.4 MB 5.0 MB/s eta 0:00:01\n",
      "   --------------- ------------------------ 2.1/5.4 MB 4.9 MB/s eta 0:00:01\n",
      "   ---------------- ----------------------- 2.2/5.4 MB 4.8 MB/s eta 0:00:01\n",
      "   ----------------- ---------------------- 2.4/5.4 MB 4.8 MB/s eta 0:00:01\n",
      "   ------------------- -------------------- 2.6/5.4 MB 4.7 MB/s eta 0:00:01\n",
      "   -------------------- ------------------- 2.7/5.4 MB 4.6 MB/s eta 0:00:01\n",
      "   --------------------- ------------------ 2.9/5.4 MB 4.6 MB/s eta 0:00:01\n",
      "   ---------------------- ----------------- 3.1/5.4 MB 4.6 MB/s eta 0:00:01\n",
      "   ------------------------ --------------- 3.2/5.4 MB 4.5 MB/s eta 0:00:01\n",
      "   ------------------------- -------------- 3.4/5.4 MB 4.5 MB/s eta 0:00:01\n",
      "   -------------------------- ------------- 3.5/5.4 MB 4.4 MB/s eta 0:00:01\n",
      "   --------------------------- ------------ 3.7/5.4 MB 4.4 MB/s eta 0:00:01\n",
      "   ---------------------------- ----------- 3.9/5.4 MB 4.3 MB/s eta 0:00:01\n",
      "   ------------------------------ --------- 4.0/5.4 MB 4.4 MB/s eta 0:00:01\n",
      "   ------------------------------- -------- 4.2/5.4 MB 4.3 MB/s eta 0:00:01\n",
      "   -------------------------------- ------- 4.4/5.4 MB 4.4 MB/s eta 0:00:01\n",
      "   --------------------------------- ------ 4.5/5.4 MB 4.3 MB/s eta 0:00:01\n",
      "   ---------------------------------- ----- 4.7/5.4 MB 4.3 MB/s eta 0:00:01\n",
      "   ------------------------------------ --- 4.9/5.4 MB 4.3 MB/s eta 0:00:01\n",
      "   ------------------------------------ --- 5.0/5.4 MB 4.2 MB/s eta 0:00:01\n",
      "   -------------------------------------- - 5.2/5.4 MB 4.2 MB/s eta 0:00:01\n",
      "   ---------------------------------------  5.4/5.4 MB 4.2 MB/s eta 0:00:01\n",
      "   ---------------------------------------  5.4/5.4 MB 4.2 MB/s eta 0:00:01\n",
      "   ---------------------------------------- 5.4/5.4 MB 4.0 MB/s eta 0:00:00\n",
      "Downloading marisa_trie-1.1.1-cp311-cp311-win_amd64.whl (153 kB)\n",
      "   ---------------------------------------- 0.0/153.3 kB ? eta -:--:--\n",
      "   ---------------------------------------- 153.3/153.3 kB 3.0 MB/s eta 0:00:00\n",
      "Installing collected packages: cymem, wasabi, spacy-loggers, spacy-legacy, pydantic-core, murmurhash, marisa-trie, cloudpathlib, catalogue, blis, annotated-types, typer, srsly, pydantic, preshed, language-data, langcodes, confection, weasel, thinc, spacy\n",
      "Successfully installed annotated-types-0.6.0 blis-0.7.11 catalogue-2.0.10 cloudpathlib-0.16.0 confection-0.1.4 cymem-2.0.8 langcodes-3.4.0 language-data-1.2.0 marisa-trie-1.1.1 murmurhash-1.0.10 preshed-3.0.9 pydantic-2.7.1 pydantic-core-2.18.2 spacy-3.7.4 spacy-legacy-3.0.12 spacy-loggers-1.0.5 srsly-2.4.8 thinc-8.2.3 typer-0.9.4 wasabi-1.1.2 weasel-0.3.4\n",
      "Note: you may need to restart the kernel to use updated packages.\n"
     ]
    }
   ],
   "source": [
    "pip install spacy"
   ]
  },
  {
   "cell_type": "code",
   "execution_count": 7,
   "id": "2f7fdecd",
   "metadata": {},
   "outputs": [],
   "source": [
    "data = pd.read_csv('training.1600000.processed.noemoticon.csv',encoding = 'ISO-8859-1',header=None)"
   ]
  },
  {
   "cell_type": "code",
   "execution_count": 8,
   "id": "caac44fd",
   "metadata": {},
   "outputs": [],
   "source": [
    "data = data[[5, 0]]\n",
    "data.columns=['tweet', 'sentiment']"
   ]
  },
  {
   "cell_type": "code",
   "execution_count": 9,
   "id": "eb5fc7aa",
   "metadata": {},
   "outputs": [],
   "source": [
    "data['sentiment'] = data['sentiment'].replace(4,1)"
   ]
  },
  {
   "cell_type": "code",
   "execution_count": 11,
   "id": "1ac83ddd",
   "metadata": {},
   "outputs": [
    {
     "data": {
      "image/png": "[encoded data removed]",
      "text/plain": [
       "<Figure size 800x600 with 1 Axes>"
      ]
     },
     "metadata": {},
     "output_type": "display_data"
    }
   ],
   "source": [
    "plt.rcParams['font.family'] = 'Arial'\n",
    "sentiment_counts = data['sentiment'].value_counts()\n",
    "sentiment_labels = {'Negative': 0, 'Positive': 1}\n",
    "plt.figure(figsize=(8, 6))\n",
    "plt.barh(list(sentiment_labels.keys()), list(sentiment_counts.values), color=['pink','lightblue', 'blue'])\n",
    "plt.xlabel(\"Frequency\")\n",
    "plt.yticks(list(sentiment_labels.values()), list(sentiment_labels.keys()))\n",
    "plt.title(\"Sentiment\")\n",
    "plt.grid(axis='x', linestyle='--', alpha=0.6)\n",
    "\n",
    "plt.show()"
   ]
  },
  {
   "cell_type": "code",
   "execution_count": 25,
   "id": "714775f4",
   "metadata": {},
   "outputs": [],
   "source": [
    "##pre-processing:"
   ]
  },
  {
   "cell_type": "code",
   "execution_count": 12,
   "id": "4364abcd",
   "metadata": {},
   "outputs": [],
   "source": [
    "stop_words = set(stopwords.words('english'))\n",
    "def preprocess(text):\n",
    "    # Removing URLS\n",
    "    text = re.sub(r\"https?://\\S+|www\\.\\S+\",\" \",text)\n",
    "    \n",
    "    # Removing html tags\n",
    "    text = re.sub(r\"<.*?>|&([a-z0-9]+|#[0-9]{1,6}|#x[0-9a-f]{1,6});\",\" \",text)\n",
    "    \n",
    "    # Removing the Punctuation\n",
    "    text = re.sub(r\"[^\\w\\s]\", \" \", text)\n",
    "        \n",
    "    # Removing words that have numbers \n",
    "    text = re.sub(r\"\\w*\\d\\w*\", \" \", text)\n",
    "        \n",
    "    # Removing Digits \n",
    "    text = re.sub(r\"[0-9]+\", \" \", text)\n",
    "        \n",
    "    # Cleaning white spaces\n",
    "    text = re.sub(r\"\\s+\", \" \", text).strip()\n",
    "        \n",
    "    text = text.lower()\n",
    "    # Check stop words\n",
    "    tokens = []\n",
    "    for token in text.split():\n",
    "        if token not in stop_words and len(token) > 3:\n",
    "            tokens.append(token)\n",
    "    return \" \".join(tokens)"
   ]
  },
  {
   "cell_type": "code",
   "execution_count": null,
   "id": "0431354b",
   "metadata": {},
   "outputs": [],
   "source": [
    "\n"
   ]
  },
  {
   "cell_type": "code",
   "execution_count": null,
   "id": "95731464",
   "metadata": {},
   "outputs": [],
   "source": []
  },
  {
   "cell_type": "code",
   "execution_count": 13,
   "id": "d26a8735",
   "metadata": {},
   "outputs": [],
   "source": [
    "data.loc[:, 'tweet'] = data['tweet'].apply(preprocess)"
   ]
  },
  {
   "cell_type": "code",
   "execution_count": null,
   "id": "49696ff5",
   "metadata": {},
   "outputs": [],
   "source": []
  },
  {
   "cell_type": "code",
   "execution_count": 26,
   "id": "a75e709e",
   "metadata": {},
   "outputs": [],
   "source": [
    "#train-test split:"
   ]
  },
  {
   "cell_type": "code",
   "execution_count": 14,
   "id": "16cb84e9",
   "metadata": {},
   "outputs": [
    {
     "name": "stdout",
     "output_type": "stream",
     "text": [
      "Train Data size: 1280000 1280000\n",
      "Test Data size 320000 320000\n"
     ]
    }
   ],
   "source": [
    "X = data['tweet']\n",
    "y = data['sentiment']\n",
    "X_train, X_test, y_train, y_test = train_test_split(X, y, test_size=0.2, random_state=7)\n",
    "\n",
    "print(\"Train Data size:\", len(X_train), len(y_train))\n",
    "print(\"Test Data size\", len(X_test), len(y_test))"
   ]
  },
  {
   "cell_type": "code",
   "execution_count": 15,
   "id": "46f7bab4",
   "metadata": {},
   "outputs": [],
   "source": [
    "tokenizer = Tokenizer()\n",
    "tokenizer.fit_on_texts(X_train)\n",
    "\n",
    "# Convert text to sequences of integers\n",
    "X_train = tokenizer.texts_to_sequences(X_train)\n",
    "X_test = tokenizer.texts_to_sequences(X_test)"
   ]
  },
  {
   "cell_type": "code",
   "execution_count": null,
   "id": "aa8fad89",
   "metadata": {},
   "outputs": [],
   "source": []
  },
  {
   "cell_type": "code",
   "execution_count": 16,
   "id": "95247649",
   "metadata": {},
   "outputs": [
    {
     "name": "stdout",
     "output_type": "stream",
     "text": [
      "After padding: (1280000, 27)\n",
      "After padding:(320000, 27)\n"
     ]
    }
   ],
   "source": [
    "max_length = max([len(seq) for seq in X_train])\n",
    "X_train = pad_sequences(X_train, maxlen=max_length)\n",
    "X_test = pad_sequences(X_test, maxlen=max_length)\n",
    "print(f\"After padding: {X_train.shape}\")\n",
    "print(f\"After padding:{X_test.shape}\")\n"
   ]
  },
  {
   "cell_type": "code",
   "execution_count": null,
   "id": "a67ba4d7",
   "metadata": {},
   "outputs": [],
   "source": []
  },
  {
   "cell_type": "code",
   "execution_count": 17,
   "id": "030d22ff",
   "metadata": {},
   "outputs": [],
   "source": [
    "batch_size=512\n",
    "vocab_size = len(tokenizer.word_index)+1\n",
    "embedding_dim = 100"
   ]
  },
  {
   "cell_type": "code",
   "execution_count": null,
   "id": "879824aa",
   "metadata": {},
   "outputs": [],
   "source": []
  },
  {
   "cell_type": "code",
   "execution_count": null,
   "id": "7a7be155",
   "metadata": {},
   "outputs": [],
   "source": []
  },
  {
   "cell_type": "code",
   "execution_count": 18,
   "id": "8210b53a",
   "metadata": {},
   "outputs": [
    {
     "name": "stderr",
     "output_type": "stream",
     "text": [
      "C:\\Users\\ANGEL\\anaconda3\\Lib\\site-packages\\keras\\src\\layers\\core\\embedding.py:90: UserWarning: Argument `input_length` is deprecated. Just remove it.\n",
      "  warnings.warn(\n"
     ]
    }
   ],
   "source": [
    "CNN=models.Sequential([\n",
    "    layers.Embedding(vocab_size, embedding_dim, input_length=max_length),\n",
    "    layers.Dropout(0.5),\n",
    "    \n",
    "    layers.Conv1D(filters=256, kernel_size=3, activation='relu'), \n",
    "    layers.Conv1D(filters=256, kernel_size=3, activation='relu'),\n",
    "    layers.GlobalMaxPooling1D(),\n",
    "    \n",
    "    layers.Flatten(),\n",
    "    layers.Dense(128,activation=\"relu\"),\n",
    "    layers.Dropout(0.5),\n",
    "    \n",
    "    layers.Dense(1, activation='sigmoid')\n",
    "])\n",
    "\n",
    "CNN.compile(loss = 'binary_crossentropy',\n",
    "                optimizer = 'adam',\n",
    "                metrics = ['accuracy'])"
   ]
  },
  {
   "cell_type": "code",
   "execution_count": null,
   "id": "75affb1b",
   "metadata": {},
   "outputs": [],
   "source": []
  },
  {
   "cell_type": "code",
   "execution_count": 19,
   "id": "15b82455",
   "metadata": {},
   "outputs": [
    {
     "name": "stdout",
     "output_type": "stream",
     "text": [
      "Epoch 1/20\n",
      "\u001b[1m2500/2500\u001b[0m \u001b[32m━━━━━━━━━━━━━━━━━━━━\u001b[0m\u001b[37m\u001b[0m \u001b[1m1578s\u001b[0m 626ms/step - accuracy: 0.7222 - loss: 0.5341\n",
      "Epoch 2/20\n",
      "\u001b[1m2500/2500\u001b[0m \u001b[32m━━━━━━━━━━━━━━━━━━━━\u001b[0m\u001b[37m\u001b[0m \u001b[1m1472s\u001b[0m 589ms/step - accuracy: 0.8106 - loss: 0.4187\n",
      "Epoch 3/20\n",
      "\u001b[1m2500/2500\u001b[0m \u001b[32m━━━━━━━━━━━━━━━━━━━━\u001b[0m\u001b[37m\u001b[0m \u001b[1m1659s\u001b[0m 664ms/step - accuracy: 0.8470 - loss: 0.3453\n",
      "Epoch 4/20\n",
      "\u001b[1m2500/2500\u001b[0m \u001b[32m━━━━━━━━━━━━━━━━━━━━\u001b[0m\u001b[37m\u001b[0m \u001b[1m1703s\u001b[0m 681ms/step - accuracy: 0.8646 - loss: 0.3043\n",
      "Epoch 5/20\n",
      "\u001b[1m2500/2500\u001b[0m \u001b[32m━━━━━━━━━━━━━━━━━━━━\u001b[0m\u001b[37m\u001b[0m \u001b[1m1496s\u001b[0m 598ms/step - accuracy: 0.8737 - loss: 0.2829\n",
      "Epoch 6/20\n",
      "\u001b[1m2500/2500\u001b[0m \u001b[32m━━━━━━━━━━━━━━━━━━━━\u001b[0m\u001b[37m\u001b[0m \u001b[1m1512s\u001b[0m 605ms/step - accuracy: 0.8816 - loss: 0.2666\n",
      "Epoch 7/20\n",
      "\u001b[1m2500/2500\u001b[0m \u001b[32m━━━━━━━━━━━━━━━━━━━━\u001b[0m\u001b[37m\u001b[0m \u001b[1m1529s\u001b[0m 611ms/step - accuracy: 0.8872 - loss: 0.2539\n",
      "Epoch 8/20\n",
      "\u001b[1m2500/2500\u001b[0m \u001b[32m━━━━━━━━━━━━━━━━━━━━\u001b[0m\u001b[37m\u001b[0m \u001b[1m1556s\u001b[0m 622ms/step - accuracy: 0.8915 - loss: 0.2441\n",
      "Epoch 9/20\n",
      "\u001b[1m2500/2500\u001b[0m \u001b[32m━━━━━━━━━━━━━━━━━━━━\u001b[0m\u001b[37m\u001b[0m \u001b[1m1482s\u001b[0m 593ms/step - accuracy: 0.8962 - loss: 0.2337\n",
      "Epoch 10/20\n",
      "\u001b[1m2500/2500\u001b[0m \u001b[32m━━━━━━━━━━━━━━━━━━━━\u001b[0m\u001b[37m\u001b[0m \u001b[1m1469s\u001b[0m 588ms/step - accuracy: 0.8995 - loss: 0.2272\n",
      "Epoch 11/20\n",
      "\u001b[1m2500/2500\u001b[0m \u001b[32m━━━━━━━━━━━━━━━━━━━━\u001b[0m\u001b[37m\u001b[0m \u001b[1m1488s\u001b[0m 595ms/step - accuracy: 0.9028 - loss: 0.2199\n",
      "Epoch 12/20\n",
      "\u001b[1m2500/2500\u001b[0m \u001b[32m━━━━━━━━━━━━━━━━━━━━\u001b[0m\u001b[37m\u001b[0m \u001b[1m1483s\u001b[0m 593ms/step - accuracy: 0.9056 - loss: 0.2142\n",
      "Epoch 13/20\n",
      "\u001b[1m2500/2500\u001b[0m \u001b[32m━━━━━━━━━━━━━━━━━━━━\u001b[0m\u001b[37m\u001b[0m \u001b[1m1499s\u001b[0m 599ms/step - accuracy: 0.9078 - loss: 0.2093\n",
      "Epoch 14/20\n",
      "\u001b[1m2500/2500\u001b[0m \u001b[32m━━━━━━━━━━━━━━━━━━━━\u001b[0m\u001b[37m\u001b[0m \u001b[1m1484s\u001b[0m 594ms/step - accuracy: 0.9101 - loss: 0.2043\n",
      "Epoch 15/20\n",
      "\u001b[1m2500/2500\u001b[0m \u001b[32m━━━━━━━━━━━━━━━━━━━━\u001b[0m\u001b[37m\u001b[0m \u001b[1m1514s\u001b[0m 606ms/step - accuracy: 0.9116 - loss: 0.2005\n",
      "Epoch 16/20\n",
      "\u001b[1m2500/2500\u001b[0m \u001b[32m━━━━━━━━━━━━━━━━━━━━\u001b[0m\u001b[37m\u001b[0m \u001b[1m1475s\u001b[0m 590ms/step - accuracy: 0.9134 - loss: 0.1968\n",
      "Epoch 17/20\n",
      "\u001b[1m2500/2500\u001b[0m \u001b[32m━━━━━━━━━━━━━━━━━━━━\u001b[0m\u001b[37m\u001b[0m \u001b[1m1495s\u001b[0m 598ms/step - accuracy: 0.9153 - loss: 0.1927\n",
      "Epoch 18/20\n",
      "\u001b[1m2500/2500\u001b[0m \u001b[32m━━━━━━━━━━━━━━━━━━━━\u001b[0m\u001b[37m\u001b[0m \u001b[1m1499s\u001b[0m 600ms/step - accuracy: 0.9159 - loss: 0.1910\n",
      "Epoch 19/20\n",
      "\u001b[1m2500/2500\u001b[0m \u001b[32m━━━━━━━━━━━━━━━━━━━━\u001b[0m\u001b[37m\u001b[0m \u001b[1m1515s\u001b[0m 606ms/step - accuracy: 0.9181 - loss: 0.1872\n",
      "Epoch 20/20\n",
      "\u001b[1m2500/2500\u001b[0m \u001b[32m━━━━━━━━━━━━━━━━━━━━\u001b[0m\u001b[37m\u001b[0m \u001b[1m1528s\u001b[0m 611ms/step - accuracy: 0.9189 - loss: 0.1849\n"
     ]
    }
   ],
   "source": [
    "history=CNN.fit(X_train, y_train, epochs=20,batch_size=batch_size)"
   ]
  },
  {
   "cell_type": "code",
   "execution_count": null,
   "id": "2760f3f3",
   "metadata": {},
   "outputs": [],
   "source": []
  },
  {
   "cell_type": "code",
   "execution_count": 20,
   "id": "00eb2ba5",
   "metadata": {},
   "outputs": [
    {
     "name": "stdout",
     "output_type": "stream",
     "text": [
      "\u001b[1m10000/10000\u001b[0m \u001b[32m━━━━━━━━━━━━━━━━━━━━\u001b[0m\u001b[37m\u001b[0m \u001b[1m77s\u001b[0m 8ms/step - accuracy: 0.7363 - loss: 1.1665\n"
     ]
    },
    {
     "data": {
      "text/plain": [
       "[1.1686484813690186, 0.7367718815803528]"
      ]
     },
     "execution_count": 20,
     "metadata": {},
     "output_type": "execute_result"
    }
   ],
   "source": [
    "CNN.evaluate(X_test, y_test)"
   ]
  },
  {
   "cell_type": "code",
   "execution_count": 21,
   "id": "7992255c",
   "metadata": {},
   "outputs": [
    {
     "data": {
      "text/html": [
       "<pre style=\"white-space:pre;overflow-x:auto;line-height:normal;font-family:Menlo,'DejaVu Sans Mono',consolas,'Courier New',monospace\"><span style=\"font-weight: bold\">Model: \"sequential\"</span>\n",
       "</pre>\n"
      ],
      "text/plain": [
       "\u001b[1mModel: \"sequential\"\u001b[0m\n"
      ]
     },
     "metadata": {},
     "output_type": "display_data"
    },
    {
     "data": {
      "text/html": [
       "<pre style=\"white-space:pre;overflow-x:auto;line-height:normal;font-family:Menlo,'DejaVu Sans Mono',consolas,'Courier New',monospace\">┏━━━━━━━━━━━━━━━━━━━━━━━━━━━━━━━━━━━━━━┳━━━━━━━━━━━━━━━━━━━━━━━━━━━━━┳━━━━━━━━━━━━━━━━━┓\n",
       "┃<span style=\"font-weight: bold\"> Layer (type)                         </span>┃<span style=\"font-weight: bold\"> Output Shape                </span>┃<span style=\"font-weight: bold\">         Param # </span>┃\n",
       "┡━━━━━━━━━━━━━━━━━━━━━━━━━━━━━━━━━━━━━━╇━━━━━━━━━━━━━━━━━━━━━━━━━━━━━╇━━━━━━━━━━━━━━━━━┩\n",
       "│ embedding (<span style=\"color: #0087ff; text-decoration-color: #0087ff\">Embedding</span>)                │ (<span style=\"color: #00af00; text-decoration-color: #00af00\">512</span>, <span style=\"color: #00af00; text-decoration-color: #00af00\">27</span>, <span style=\"color: #00af00; text-decoration-color: #00af00\">100</span>)              │      <span style=\"color: #00af00; text-decoration-color: #00af00\">45,102,700</span> │\n",
       "├──────────────────────────────────────┼─────────────────────────────┼─────────────────┤\n",
       "│ dropout (<span style=\"color: #0087ff; text-decoration-color: #0087ff\">Dropout</span>)                    │ (<span style=\"color: #00af00; text-decoration-color: #00af00\">512</span>, <span style=\"color: #00af00; text-decoration-color: #00af00\">27</span>, <span style=\"color: #00af00; text-decoration-color: #00af00\">100</span>)              │               <span style=\"color: #00af00; text-decoration-color: #00af00\">0</span> │\n",
       "├──────────────────────────────────────┼─────────────────────────────┼─────────────────┤\n",
       "│ conv1d (<span style=\"color: #0087ff; text-decoration-color: #0087ff\">Conv1D</span>)                      │ (<span style=\"color: #00af00; text-decoration-color: #00af00\">512</span>, <span style=\"color: #00af00; text-decoration-color: #00af00\">25</span>, <span style=\"color: #00af00; text-decoration-color: #00af00\">256</span>)              │          <span style=\"color: #00af00; text-decoration-color: #00af00\">77,056</span> │\n",
       "├──────────────────────────────────────┼─────────────────────────────┼─────────────────┤\n",
       "│ conv1d_1 (<span style=\"color: #0087ff; text-decoration-color: #0087ff\">Conv1D</span>)                    │ (<span style=\"color: #00af00; text-decoration-color: #00af00\">512</span>, <span style=\"color: #00af00; text-decoration-color: #00af00\">23</span>, <span style=\"color: #00af00; text-decoration-color: #00af00\">256</span>)              │         <span style=\"color: #00af00; text-decoration-color: #00af00\">196,864</span> │\n",
       "├──────────────────────────────────────┼─────────────────────────────┼─────────────────┤\n",
       "│ global_max_pooling1d                 │ (<span style=\"color: #00af00; text-decoration-color: #00af00\">512</span>, <span style=\"color: #00af00; text-decoration-color: #00af00\">256</span>)                  │               <span style=\"color: #00af00; text-decoration-color: #00af00\">0</span> │\n",
       "│ (<span style=\"color: #0087ff; text-decoration-color: #0087ff\">GlobalMaxPooling1D</span>)                 │                             │                 │\n",
       "├──────────────────────────────────────┼─────────────────────────────┼─────────────────┤\n",
       "│ flatten (<span style=\"color: #0087ff; text-decoration-color: #0087ff\">Flatten</span>)                    │ (<span style=\"color: #00af00; text-decoration-color: #00af00\">512</span>, <span style=\"color: #00af00; text-decoration-color: #00af00\">256</span>)                  │               <span style=\"color: #00af00; text-decoration-color: #00af00\">0</span> │\n",
       "├──────────────────────────────────────┼─────────────────────────────┼─────────────────┤\n",
       "│ dense (<span style=\"color: #0087ff; text-decoration-color: #0087ff\">Dense</span>)                        │ (<span style=\"color: #00af00; text-decoration-color: #00af00\">512</span>, <span style=\"color: #00af00; text-decoration-color: #00af00\">128</span>)                  │          <span style=\"color: #00af00; text-decoration-color: #00af00\">32,896</span> │\n",
       "├──────────────────────────────────────┼─────────────────────────────┼─────────────────┤\n",
       "│ dropout_1 (<span style=\"color: #0087ff; text-decoration-color: #0087ff\">Dropout</span>)                  │ (<span style=\"color: #00af00; text-decoration-color: #00af00\">512</span>, <span style=\"color: #00af00; text-decoration-color: #00af00\">128</span>)                  │               <span style=\"color: #00af00; text-decoration-color: #00af00\">0</span> │\n",
       "├──────────────────────────────────────┼─────────────────────────────┼─────────────────┤\n",
       "│ dense_1 (<span style=\"color: #0087ff; text-decoration-color: #0087ff\">Dense</span>)                      │ (<span style=\"color: #00af00; text-decoration-color: #00af00\">512</span>, <span style=\"color: #00af00; text-decoration-color: #00af00\">1</span>)                    │             <span style=\"color: #00af00; text-decoration-color: #00af00\">129</span> │\n",
       "└──────────────────────────────────────┴─────────────────────────────┴─────────────────┘\n",
       "</pre>\n"
      ],
      "text/plain": [
       "┏━━━━━━━━━━━━━━━━━━━━━━━━━━━━━━━━━━━━━━┳━━━━━━━━━━━━━━━━━━━━━━━━━━━━━┳━━━━━━━━━━━━━━━━━┓\n",
       "┃\u001b[1m \u001b[0m\u001b[1mLayer (type)                        \u001b[0m\u001b[1m \u001b[0m┃\u001b[1m \u001b[0m\u001b[1mOutput Shape               \u001b[0m\u001b[1m \u001b[0m┃\u001b[1m \u001b[0m\u001b[1m        Param #\u001b[0m\u001b[1m \u001b[0m┃\n",
       "┡━━━━━━━━━━━━━━━━━━━━━━━━━━━━━━━━━━━━━━╇━━━━━━━━━━━━━━━━━━━━━━━━━━━━━╇━━━━━━━━━━━━━━━━━┩\n",
       "│ embedding (\u001b[38;5;33mEmbedding\u001b[0m)                │ (\u001b[38;5;34m512\u001b[0m, \u001b[38;5;34m27\u001b[0m, \u001b[38;5;34m100\u001b[0m)              │      \u001b[38;5;34m45,102,700\u001b[0m │\n",
       "├──────────────────────────────────────┼─────────────────────────────┼─────────────────┤\n",
       "│ dropout (\u001b[38;5;33mDropout\u001b[0m)                    │ (\u001b[38;5;34m512\u001b[0m, \u001b[38;5;34m27\u001b[0m, \u001b[38;5;34m100\u001b[0m)              │               \u001b[38;5;34m0\u001b[0m │\n",
       "├──────────────────────────────────────┼─────────────────────────────┼─────────────────┤\n",
       "│ conv1d (\u001b[38;5;33mConv1D\u001b[0m)                      │ (\u001b[38;5;34m512\u001b[0m, \u001b[38;5;34m25\u001b[0m, \u001b[38;5;34m256\u001b[0m)              │          \u001b[38;5;34m77,056\u001b[0m │\n",
       "├──────────────────────────────────────┼─────────────────────────────┼─────────────────┤\n",
       "│ conv1d_1 (\u001b[38;5;33mConv1D\u001b[0m)                    │ (\u001b[38;5;34m512\u001b[0m, \u001b[38;5;34m23\u001b[0m, \u001b[38;5;34m256\u001b[0m)              │         \u001b[38;5;34m196,864\u001b[0m │\n",
       "├──────────────────────────────────────┼─────────────────────────────┼─────────────────┤\n",
       "│ global_max_pooling1d                 │ (\u001b[38;5;34m512\u001b[0m, \u001b[38;5;34m256\u001b[0m)                  │               \u001b[38;5;34m0\u001b[0m │\n",
       "│ (\u001b[38;5;33mGlobalMaxPooling1D\u001b[0m)                 │                             │                 │\n",
       "├──────────────────────────────────────┼─────────────────────────────┼─────────────────┤\n",
       "│ flatten (\u001b[38;5;33mFlatten\u001b[0m)                    │ (\u001b[38;5;34m512\u001b[0m, \u001b[38;5;34m256\u001b[0m)                  │               \u001b[38;5;34m0\u001b[0m │\n",
       "├──────────────────────────────────────┼─────────────────────────────┼─────────────────┤\n",
       "│ dense (\u001b[38;5;33mDense\u001b[0m)                        │ (\u001b[38;5;34m512\u001b[0m, \u001b[38;5;34m128\u001b[0m)                  │          \u001b[38;5;34m32,896\u001b[0m │\n",
       "├──────────────────────────────────────┼─────────────────────────────┼─────────────────┤\n",
       "│ dropout_1 (\u001b[38;5;33mDropout\u001b[0m)                  │ (\u001b[38;5;34m512\u001b[0m, \u001b[38;5;34m128\u001b[0m)                  │               \u001b[38;5;34m0\u001b[0m │\n",
       "├──────────────────────────────────────┼─────────────────────────────┼─────────────────┤\n",
       "│ dense_1 (\u001b[38;5;33mDense\u001b[0m)                      │ (\u001b[38;5;34m512\u001b[0m, \u001b[38;5;34m1\u001b[0m)                    │             \u001b[38;5;34m129\u001b[0m │\n",
       "└──────────────────────────────────────┴─────────────────────────────┴─────────────────┘\n"
      ]
     },
     "metadata": {},
     "output_type": "display_data"
    },
    {
     "data": {
      "text/html": [
       "<pre style=\"white-space:pre;overflow-x:auto;line-height:normal;font-family:Menlo,'DejaVu Sans Mono',consolas,'Courier New',monospace\"><span style=\"font-weight: bold\"> Total params: </span><span style=\"color: #00af00; text-decoration-color: #00af00\">136,228,937</span> (519.67 MB)\n",
       "</pre>\n"
      ],
      "text/plain": [
       "\u001b[1m Total params: \u001b[0m\u001b[38;5;34m136,228,937\u001b[0m (519.67 MB)\n"
      ]
     },
     "metadata": {},
     "output_type": "display_data"
    },
    {
     "data": {
      "text/html": [
       "<pre style=\"white-space:pre;overflow-x:auto;line-height:normal;font-family:Menlo,'DejaVu Sans Mono',consolas,'Courier New',monospace\"><span style=\"font-weight: bold\"> Trainable params: </span><span style=\"color: #00af00; text-decoration-color: #00af00\">45,409,645</span> (173.22 MB)\n",
       "</pre>\n"
      ],
      "text/plain": [
       "\u001b[1m Trainable params: \u001b[0m\u001b[38;5;34m45,409,645\u001b[0m (173.22 MB)\n"
      ]
     },
     "metadata": {},
     "output_type": "display_data"
    },
    {
     "data": {
      "text/html": [
       "<pre style=\"white-space:pre;overflow-x:auto;line-height:normal;font-family:Menlo,'DejaVu Sans Mono',consolas,'Courier New',monospace\"><span style=\"font-weight: bold\"> Non-trainable params: </span><span style=\"color: #00af00; text-decoration-color: #00af00\">0</span> (0.00 B)\n",
       "</pre>\n"
      ],
      "text/plain": [
       "\u001b[1m Non-trainable params: \u001b[0m\u001b[38;5;34m0\u001b[0m (0.00 B)\n"
      ]
     },
     "metadata": {},
     "output_type": "display_data"
    },
    {
     "data": {
      "text/html": [
       "<pre style=\"white-space:pre;overflow-x:auto;line-height:normal;font-family:Menlo,'DejaVu Sans Mono',consolas,'Courier New',monospace\"><span style=\"font-weight: bold\"> Optimizer params: </span><span style=\"color: #00af00; text-decoration-color: #00af00\">90,819,292</span> (346.45 MB)\n",
       "</pre>\n"
      ],
      "text/plain": [
       "\u001b[1m Optimizer params: \u001b[0m\u001b[38;5;34m90,819,292\u001b[0m (346.45 MB)\n"
      ]
     },
     "metadata": {},
     "output_type": "display_data"
    }
   ],
   "source": [
    "CNN.summary()"
   ]
  },
  {
   "cell_type": "code",
   "execution_count": null,
   "id": "6ff09698",
   "metadata": {},
   "outputs": [],
   "source": []
  },
  {
   "cell_type": "code",
   "execution_count": null,
   "id": "ca60e0d0",
   "metadata": {},
   "outputs": [],
   "source": []
  },
  {
   "cell_type": "code",
   "execution_count": 22,
   "id": "8c0641b6",
   "metadata": {},
   "outputs": [
    {
     "name": "stdout",
     "output_type": "stream",
     "text": [
      "\u001b[1m10000/10000\u001b[0m \u001b[32m━━━━━━━━━━━━━━━━━━━━\u001b[0m\u001b[37m\u001b[0m \u001b[1m76s\u001b[0m 8ms/step\n"
     ]
    },
    {
     "data": {
      "image/png": "[encoded data removed]",
      "text/plain": [
       "<Figure size 1000x700 with 2 Axes>"
      ]
     },
     "metadata": {},
     "output_type": "display_data"
    }
   ],
   "source": [
    "import matplotlib.pyplot as plt\n",
    "import seaborn as sn\n",
    "import tensorflow as tf\n",
    "y_pred = CNN.predict(X_test)\n",
    "y_pred_rounded = np.round(y_pred)\n",
    "cm = tf.math.confusion_matrix(labels=y_test,predictions=y_pred_rounded)\n",
    "plt.figure(figsize=(10, 7))\n",
    "sn.heatmap(cm, annot=True, fmt='d', cmap='Blues')\n",
    "plt.title('Confusion Matrix')\n",
    "plt.xlabel('Predicted')\n",
    "plt.ylabel('Truth')\n",
    "plt.show()"
   ]
  },
  {
   "cell_type": "code",
   "execution_count": null,
   "id": "f654536a",
   "metadata": {},
   "outputs": [],
   "source": []
  },
  {
   "cell_type": "code",
   "execution_count": 23,
   "id": "d108e9ba",
   "metadata": {},
   "outputs": [],
   "source": [
    "from sklearn.metrics import classification_report\n"
   ]
  },
  {
   "cell_type": "code",
   "execution_count": 24,
   "id": "fe0610b7",
   "metadata": {},
   "outputs": [
    {
     "name": "stdout",
     "output_type": "stream",
     "text": [
      "              precision    recall  f1-score   support\n",
      "\n",
      "    Negative       0.73      0.76      0.74    160542\n",
      "    Positive       0.75      0.71      0.73    159458\n",
      "\n",
      "    accuracy                           0.74    320000\n",
      "   macro avg       0.74      0.74      0.74    320000\n",
      "weighted avg       0.74      0.74      0.74    320000\n",
      "\n"
     ]
    }
   ],
   "source": [
    "# Print classification report\n",
    "print(classification_report(y_test, y_pred_rounded, target_names=['Negative', 'Positive']))\n"
   ]
  },
  {
   "cell_type": "code",
   "execution_count": null,
   "id": "8a8153be",
   "metadata": {},
   "outputs": [],
   "source": []
  },
  {
   "cell_type": "code",
   "execution_count": null,
   "id": "d8f3ab44",
   "metadata": {},
   "outputs": [],
   "source": []
  }
 ],
 "metadata": {
  "kernelspec": {
   "display_name": "Python 3 (ipykernel)",
   "language": "python",
   "name": "python3"
  },
  "language_info": {
   "codemirror_mode": {
    "name": "ipython",
    "version": 3
   },
   "file_extension": ".py",
   "mimetype": "text/x-python",
   "name": "python",
   "nbconvert_exporter": "python",
   "pygments_lexer": "ipython3",
   "version": "3.11.4"
  }
 },
 "nbformat": 4,
 "nbformat_minor": 5
}
